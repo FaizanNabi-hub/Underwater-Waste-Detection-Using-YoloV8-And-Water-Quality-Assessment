{
  "cells": [
    {
      "cell_type": "markdown",
      "metadata": {
        "id": "view-in-github",
        "colab_type": "text"
      },
      "source": [
        "<a href=\"https://colab.research.google.com/github/ShivamVadalia/Underwater-Waste-Detection-Using-YoloV8-And-Water-Quality-Assessment/blob/main/Train_Underwater_Waste_Detection_YoloV8.ipynb\" target=\"_parent\"><img src=\"https://colab.research.google.com/assets/colab-badge.svg\" alt=\"Open In Colab\"/></a>"
      ]
    },
    {
      "cell_type": "markdown",
      "source": [
        "## Mounting Drive\n",
        "\n",
        "---\n",
        "\n"
      ],
      "metadata": {
        "id": "5_O8njpBl1EM"
      }
    },
    {
      "cell_type": "code",
      "source": [
        "from google.colab import drive\n",
        "drive.mount('/content/drive')"
      ],
      "metadata": {
        "id": "poQhkh4PmA8L"
      },
      "execution_count": null,
      "outputs": []
    },
    {
      "cell_type": "markdown",
      "source": [
        "## Downloading Dependencies\n",
        "\n",
        "---\n",
        "\n"
      ],
      "metadata": {
        "id": "JYSe7kzMmBd8"
      }
    },
    {
      "cell_type": "code",
      "execution_count": null,
      "metadata": {
        "colab": {
          "base_uri": "https://localhost:8080/"
        },
        "id": "R9iGfYDYQ_uv",
        "outputId": "60e24c92-1f9d-44c0-8ab1-2d725d7be5f1"
      },
      "outputs": [
        {
          "name": "stdout",
          "output_type": "stream",
          "text": [
            "Collecting ultralytics\n",
            "  Downloading ultralytics-8.0.40-py3-none-any.whl (294 kB)\n",
            "Requirement already satisfied: numpy>=1.18.5 in c:\\users\\acer\\anaconda3\\lib\\site-packages (from ultralytics) (1.21.6)\n",
            "Requirement already satisfied: seaborn>=0.11.0 in c:\\users\\acer\\anaconda3\\lib\\site-packages (from ultralytics) (0.11.2)\n",
            "Requirement already satisfied: Pillow>=7.1.2 in c:\\users\\acer\\anaconda3\\lib\\site-packages (from ultralytics) (9.0.1)\n",
            "Requirement already satisfied: tqdm>=4.64.0 in c:\\users\\acer\\anaconda3\\lib\\site-packages (from ultralytics) (4.64.0)\n",
            "Requirement already satisfied: PyYAML>=5.3.1 in c:\\users\\acer\\anaconda3\\lib\\site-packages (from ultralytics) (6.0)\n",
            "Requirement already satisfied: matplotlib>=3.2.2 in c:\\users\\acer\\appdata\\roaming\\python\\python39\\site-packages (from ultralytics) (3.5.2)\n",
            "Requirement already satisfied: pandas>=1.1.4 in c:\\users\\acer\\anaconda3\\lib\\site-packages (from ultralytics) (1.4.2)\n",
            "Collecting thop>=0.1.1\n",
            "  Downloading thop-0.1.1.post2209072238-py3-none-any.whl (15 kB)\n",
            "Collecting wheel>=0.38.0\n",
            "  Downloading wheel-0.38.4-py3-none-any.whl (36 kB)\n",
            "Collecting sentry-sdk\n",
            "  Downloading sentry_sdk-1.15.0-py2.py3-none-any.whl (181 kB)\n",
            "Requirement already satisfied: requests>=2.23.0 in c:\\users\\acer\\anaconda3\\lib\\site-packages (from ultralytics) (2.28.1)\n",
            "Collecting torchvision>=0.8.1\n",
            "  Downloading torchvision-0.14.1-cp39-cp39-win_amd64.whl (1.1 MB)\n",
            "Requirement already satisfied: psutil in c:\\users\\acer\\anaconda3\\lib\\site-packages (from ultralytics) (5.8.0)\n",
            "Requirement already satisfied: tensorboard>=2.4.1 in c:\\users\\acer\\anaconda3\\lib\\site-packages (from ultralytics) (2.10.1)\n",
            "Requirement already satisfied: opencv-python>=4.6.0 in c:\\users\\acer\\anaconda3\\lib\\site-packages (from ultralytics) (4.6.0.66)\n",
            "Collecting torch>=1.7.0\n",
            "  Downloading torch-1.13.1-cp39-cp39-win_amd64.whl (162.5 MB)\n",
            "Requirement already satisfied: scipy>=1.4.1 in c:\\users\\acer\\anaconda3\\lib\\site-packages (from ultralytics) (1.9.2)\n",
            "Requirement already satisfied: pyparsing>=2.2.1 in c:\\users\\acer\\anaconda3\\lib\\site-packages (from matplotlib>=3.2.2->ultralytics) (3.0.9)\n",
            "Requirement already satisfied: fonttools>=4.22.0 in c:\\users\\acer\\anaconda3\\lib\\site-packages (from matplotlib>=3.2.2->ultralytics) (4.25.0)\n",
            "Requirement already satisfied: python-dateutil>=2.7 in c:\\users\\acer\\anaconda3\\lib\\site-packages (from matplotlib>=3.2.2->ultralytics) (2.8.2)\n",
            "Requirement already satisfied: packaging>=20.0 in c:\\users\\acer\\anaconda3\\lib\\site-packages (from matplotlib>=3.2.2->ultralytics) (21.3)\n",
            "Requirement already satisfied: cycler>=0.10 in c:\\users\\acer\\anaconda3\\lib\\site-packages (from matplotlib>=3.2.2->ultralytics) (0.11.0)\n",
            "Requirement already satisfied: kiwisolver>=1.0.1 in c:\\users\\acer\\anaconda3\\lib\\site-packages (from matplotlib>=3.2.2->ultralytics) (1.3.2)\n",
            "Requirement already satisfied: pytz>=2020.1 in c:\\users\\acer\\anaconda3\\lib\\site-packages (from pandas>=1.1.4->ultralytics) (2021.1)\n",
            "Requirement already satisfied: six>=1.5 in c:\\users\\acer\\anaconda3\\lib\\site-packages (from python-dateutil>=2.7->matplotlib>=3.2.2->ultralytics) (1.16.0)\n",
            "Requirement already satisfied: charset-normalizer<3,>=2 in c:\\users\\acer\\anaconda3\\lib\\site-packages (from requests>=2.23.0->ultralytics) (2.1.1)\n",
            "Requirement already satisfied: certifi>=2017.4.17 in c:\\users\\acer\\anaconda3\\lib\\site-packages (from requests>=2.23.0->ultralytics) (2022.9.24)\n",
            "Requirement already satisfied: urllib3<1.27,>=1.21.1 in c:\\users\\acer\\anaconda3\\lib\\site-packages (from requests>=2.23.0->ultralytics) (1.26.12)\n",
            "Requirement already satisfied: idna<4,>=2.5 in c:\\users\\acer\\anaconda3\\lib\\site-packages (from requests>=2.23.0->ultralytics) (3.4)\n",
            "Requirement already satisfied: setuptools>=41.0.0 in c:\\users\\acer\\anaconda3\\lib\\site-packages (from tensorboard>=2.4.1->ultralytics) (65.5.0)\n",
            "Requirement already satisfied: google-auth-oauthlib<0.5,>=0.4.1 in c:\\users\\acer\\anaconda3\\lib\\site-packages (from tensorboard>=2.4.1->ultralytics) (0.4.6)\n",
            "Requirement already satisfied: werkzeug>=1.0.1 in c:\\users\\acer\\anaconda3\\lib\\site-packages (from tensorboard>=2.4.1->ultralytics) (2.2.2)\n",
            "Requirement already satisfied: tensorboard-data-server<0.7.0,>=0.6.0 in c:\\users\\acer\\anaconda3\\lib\\site-packages (from tensorboard>=2.4.1->ultralytics) (0.6.1)\n",
            "Requirement already satisfied: absl-py>=0.4 in c:\\users\\acer\\anaconda3\\lib\\site-packages (from tensorboard>=2.4.1->ultralytics) (1.3.0)\n",
            "Requirement already satisfied: google-auth<3,>=1.6.3 in c:\\users\\acer\\anaconda3\\lib\\site-packages (from tensorboard>=2.4.1->ultralytics) (2.12.0)\n",
            "Requirement already satisfied: protobuf<3.20,>=3.9.2 in c:\\users\\acer\\anaconda3\\lib\\site-packages (from tensorboard>=2.4.1->ultralytics) (3.19.6)\n",
            "Requirement already satisfied: markdown>=2.6.8 in c:\\users\\acer\\anaconda3\\lib\\site-packages (from tensorboard>=2.4.1->ultralytics) (3.4.1)\n",
            "Requirement already satisfied: tensorboard-plugin-wit>=1.6.0 in c:\\users\\acer\\anaconda3\\lib\\site-packages (from tensorboard>=2.4.1->ultralytics) (1.8.1)\n",
            "Requirement already satisfied: grpcio>=1.24.3 in c:\\users\\acer\\anaconda3\\lib\\site-packages (from tensorboard>=2.4.1->ultralytics) (1.49.1)\n",
            "Requirement already satisfied: pyasn1-modules>=0.2.1 in c:\\users\\acer\\anaconda3\\lib\\site-packages (from google-auth<3,>=1.6.3->tensorboard>=2.4.1->ultralytics) (0.2.8)\n",
            "Requirement already satisfied: cachetools<6.0,>=2.0.0 in c:\\users\\acer\\anaconda3\\lib\\site-packages (from google-auth<3,>=1.6.3->tensorboard>=2.4.1->ultralytics) (5.2.0)\n",
            "Requirement already satisfied: rsa<5,>=3.1.4 in c:\\users\\acer\\anaconda3\\lib\\site-packages (from google-auth<3,>=1.6.3->tensorboard>=2.4.1->ultralytics) (4.9)\n",
            "Requirement already satisfied: requests-oauthlib>=0.7.0 in c:\\users\\acer\\anaconda3\\lib\\site-packages (from google-auth-oauthlib<0.5,>=0.4.1->tensorboard>=2.4.1->ultralytics) (1.3.1)\n",
            "Requirement already satisfied: importlib-metadata>=4.4 in c:\\users\\acer\\anaconda3\\lib\\site-packages (from markdown>=2.6.8->tensorboard>=2.4.1->ultralytics) (5.0.0)\n",
            "Requirement already satisfied: zipp>=0.5 in c:\\users\\acer\\anaconda3\\lib\\site-packages (from importlib-metadata>=4.4->markdown>=2.6.8->tensorboard>=2.4.1->ultralytics) (3.9.0)\n",
            "Requirement already satisfied: pyasn1<0.5.0,>=0.4.6 in c:\\users\\acer\\anaconda3\\lib\\site-packages (from pyasn1-modules>=0.2.1->google-auth<3,>=1.6.3->tensorboard>=2.4.1->ultralytics) (0.4.8)\n",
            "Requirement already satisfied: oauthlib>=3.0.0 in c:\\users\\acer\\anaconda3\\lib\\site-packages (from requests-oauthlib>=0.7.0->google-auth-oauthlib<0.5,>=0.4.1->tensorboard>=2.4.1->ultralytics) (3.2.1)\n",
            "Requirement already satisfied: typing-extensions in c:\\users\\acer\\anaconda3\\lib\\site-packages (from torch>=1.7.0->ultralytics) (4.4.0)\n",
            "Requirement already satisfied: colorama in c:\\users\\acer\\anaconda3\\lib\\site-packages (from tqdm>=4.64.0->ultralytics) (0.4.4)\n",
            "Requirement already satisfied: MarkupSafe>=2.1.1 in c:\\users\\acer\\anaconda3\\lib\\site-packages (from werkzeug>=1.0.1->tensorboard>=2.4.1->ultralytics) (2.1.1)\n",
            "Installing collected packages: wheel, torch, torchvision, thop, sentry-sdk, ultralytics\n",
            "  Attempting uninstall: wheel\n",
            "    Found existing installation: wheel 0.37.1\n",
            "    Uninstalling wheel-0.37.1:\n",
            "      Successfully uninstalled wheel-0.37.1\n",
            "Successfully installed sentry-sdk-1.15.0 thop-0.1.1.post2209072238 torch-1.13.1 torchvision-0.14.1 ultralytics-8.0.40 wheel-0.38.4\n"
          ]
        },
        {
          "name": "stderr",
          "output_type": "stream",
          "text": [
            "WARNING: Ignoring invalid distribution -ensorflow (c:\\users\\acer\\anaconda3\\lib\\site-packages)\n",
            "WARNING: Ignoring invalid distribution -ensorflow (c:\\users\\acer\\anaconda3\\lib\\site-packages)\n",
            "WARNING: Ignoring invalid distribution -ensorflow (c:\\users\\acer\\anaconda3\\lib\\site-packages)\n",
            "    WARNING: Ignoring invalid distribution -ensorflow (c:\\users\\acer\\anaconda3\\lib\\site-packages)\n",
            "WARNING: Ignoring invalid distribution -ensorflow (c:\\users\\acer\\anaconda3\\lib\\site-packages)\n",
            "WARNING: Ignoring invalid distribution -ensorflow (c:\\users\\acer\\anaconda3\\lib\\site-packages)\n",
            "WARNING: Ignoring invalid distribution -ensorflow (c:\\users\\acer\\anaconda3\\lib\\site-packages)\n",
            "WARNING: Ignoring invalid distribution -ensorflow (c:\\users\\acer\\anaconda3\\lib\\site-packages)\n",
            "WARNING: Ignoring invalid distribution -ensorflow (c:\\users\\acer\\anaconda3\\lib\\site-packages)\n",
            "WARNING: Ignoring invalid distribution -ensorflow (c:\\users\\acer\\anaconda3\\lib\\site-packages)\n",
            "WARNING: Ignoring invalid distribution -ensorflow (c:\\users\\acer\\anaconda3\\lib\\site-packages)\n",
            "WARNING: Ignoring invalid distribution -ensorflow (c:\\users\\acer\\anaconda3\\lib\\site-packages)\n",
            "WARNING: Ignoring invalid distribution -ensorflow (c:\\users\\acer\\anaconda3\\lib\\site-packages)\n"
          ]
        }
      ],
      "source": [
        "!pip install ultralytics"
      ]
    },
    {
      "cell_type": "code",
      "execution_count": null,
      "metadata": {
        "colab": {
          "base_uri": "https://localhost:8080/",
          "height": 901
        },
        "id": "jj6wlII2STmP",
        "outputId": "f839a2c9-6148-4db7-9ecf-47ed3cd5df30"
      },
      "outputs": [
        {
          "name": "stdout",
          "output_type": "stream",
          "text": [
            "Collecting roboflow"
          ]
        },
        {
          "name": "stderr",
          "output_type": "stream",
          "text": [
            "WARNING: Ignoring invalid distribution -ensorflow (c:\\users\\acer\\anaconda3\\lib\\site-packages)\n",
            "WARNING: Ignoring invalid distribution -ensorflow (c:\\users\\acer\\anaconda3\\lib\\site-packages)\n",
            "WARNING: Ignoring invalid distribution -ensorflow (c:\\users\\acer\\anaconda3\\lib\\site-packages)\n",
            "    WARNING: Ignoring invalid distribution -ensorflow (c:\\users\\acer\\anaconda3\\lib\\site-packages)\n",
            "    WARNING: Ignoring invalid distribution -ensorflow (c:\\users\\acer\\anaconda3\\lib\\site-packages)\n",
            "    WARNING: Ignoring invalid distribution -ensorflow (c:\\users\\acer\\anaconda3\\lib\\site-packages)\n",
            "    WARNING: Ignoring invalid distribution -ensorflow (c:\\users\\acer\\anaconda3\\lib\\site-packages)\n",
            "WARNING: Ignoring invalid distribution -ensorflow (c:\\users\\acer\\anaconda3\\lib\\site-packages)\n",
            "WARNING: Ignoring invalid distribution -ensorflow (c:\\users\\acer\\anaconda3\\lib\\site-packages)\n",
            "WARNING: Ignoring invalid distribution -ensorflow (c:\\users\\acer\\anaconda3\\lib\\site-packages)\n",
            "WARNING: Ignoring invalid distribution -ensorflow (c:\\users\\acer\\anaconda3\\lib\\site-packages)\n",
            "WARNING: Ignoring invalid distribution -ensorflow (c:\\users\\acer\\anaconda3\\lib\\site-packages)\n",
            "WARNING: Ignoring invalid distribution -ensorflow (c:\\users\\acer\\anaconda3\\lib\\site-packages)\n",
            "WARNING: Ignoring invalid distribution -ensorflow (c:\\users\\acer\\anaconda3\\lib\\site-packages)\n",
            "WARNING: Ignoring invalid distribution -ensorflow (c:\\users\\acer\\anaconda3\\lib\\site-packages)\n",
            "ERROR: pip's dependency resolver does not currently take into account all the packages that are installed. This behaviour is the source of the following dependency conflicts.\n",
            "conda-repo-cli 1.0.4 requires pathlib, which is not installed.\n",
            "anaconda-project 0.10.2 requires ruamel-yaml, which is not installed.\n",
            "jupyter-server 1.13.5 requires pywinpty<2; os_name == \"nt\", but you have pywinpty 2.0.2 which is incompatible.\n",
            "google-api-core 1.25.1 requires google-auth<2.0dev,>=1.21.1, but you have google-auth 2.12.0 which is incompatible.\n",
            "WARNING: Ignoring invalid distribution -ensorflow (c:\\users\\acer\\anaconda3\\lib\\site-packages)\n",
            "WARNING: Ignoring invalid distribution -ensorflow (c:\\users\\acer\\anaconda3\\lib\\site-packages)\n",
            "WARNING: Ignoring invalid distribution -ensorflow (c:\\users\\acer\\anaconda3\\lib\\site-packages)\n"
          ]
        },
        {
          "name": "stdout",
          "output_type": "stream",
          "text": [
            "\n",
            "  Downloading roboflow-0.2.31-py3-none-any.whl (50 kB)\n",
            "Collecting python-dotenv\n",
            "  Downloading python_dotenv-0.21.1-py3-none-any.whl (19 kB)\n",
            "Requirement already satisfied: matplotlib in c:\\users\\acer\\appdata\\roaming\\python\\python39\\site-packages (from roboflow) (3.5.2)\n",
            "Requirement already satisfied: requests in c:\\users\\acer\\anaconda3\\lib\\site-packages (from roboflow) (2.28.1)\n",
            "Requirement already satisfied: PyYAML>=5.3.1 in c:\\users\\acer\\anaconda3\\lib\\site-packages (from roboflow) (6.0)\n",
            "Collecting requests-toolbelt\n",
            "  Downloading requests_toolbelt-0.10.1-py2.py3-none-any.whl (54 kB)\n",
            "Requirement already satisfied: Pillow>=7.1.2 in c:\\users\\acer\\anaconda3\\lib\\site-packages (from roboflow) (9.0.1)\n",
            "Collecting idna==2.10\n",
            "  Downloading idna-2.10-py2.py3-none-any.whl (58 kB)\n",
            "Requirement already satisfied: six in c:\\users\\acer\\anaconda3\\lib\\site-packages (from roboflow) (1.16.0)\n",
            "Collecting pyparsing==2.4.7\n",
            "  Downloading pyparsing-2.4.7-py2.py3-none-any.whl (67 kB)\n",
            "Requirement already satisfied: python-dateutil in c:\\users\\acer\\anaconda3\\lib\\site-packages (from roboflow) (2.8.2)\n",
            "Collecting certifi==2022.12.7\n",
            "  Downloading certifi-2022.12.7-py3-none-any.whl (155 kB)\n",
            "Requirement already satisfied: kiwisolver>=1.3.1 in c:\\users\\acer\\anaconda3\\lib\\site-packages (from roboflow) (1.3.2)\n",
            "Requirement already satisfied: numpy>=1.18.5 in c:\\users\\acer\\anaconda3\\lib\\site-packages (from roboflow) (1.21.6)\n",
            "Requirement already satisfied: urllib3>=1.26.6 in c:\\users\\acer\\anaconda3\\lib\\site-packages (from roboflow) (1.26.12)\n",
            "Requirement already satisfied: tqdm>=4.41.0 in c:\\users\\acer\\anaconda3\\lib\\site-packages (from roboflow) (4.64.0)\n",
            "Requirement already satisfied: chardet==4.0.0 in c:\\users\\acer\\anaconda3\\lib\\site-packages (from roboflow) (4.0.0)\n",
            "Collecting cycler==0.10.0\n",
            "  Using cached cycler-0.10.0-py2.py3-none-any.whl (6.5 kB)\n",
            "Requirement already satisfied: opencv-python>=4.1.2 in c:\\users\\acer\\anaconda3\\lib\\site-packages (from roboflow) (4.6.0.66)\n",
            "Collecting wget\n",
            "  Downloading wget-3.2.zip (10 kB)\n",
            "Requirement already satisfied: colorama in c:\\users\\acer\\anaconda3\\lib\\site-packages (from tqdm>=4.41.0->roboflow) (0.4.4)\n",
            "Requirement already satisfied: fonttools>=4.22.0 in c:\\users\\acer\\anaconda3\\lib\\site-packages (from matplotlib->roboflow) (4.25.0)\n",
            "Requirement already satisfied: packaging>=20.0 in c:\\users\\acer\\anaconda3\\lib\\site-packages (from matplotlib->roboflow) (21.3)\n",
            "Requirement already satisfied: charset-normalizer<3,>=2 in c:\\users\\acer\\anaconda3\\lib\\site-packages (from requests->roboflow) (2.1.1)\n",
            "Building wheels for collected packages: wget\n",
            "  Building wheel for wget (setup.py): started\n",
            "  Building wheel for wget (setup.py): finished with status 'done'\n",
            "  Created wheel for wget: filename=wget-3.2-py3-none-any.whl size=9680 sha256=8a936cf6281b2003c960dec6ed515ae9ae9f7e11f347e535a986b1ca9a5eccba\n",
            "  Stored in directory: c:\\users\\acer\\appdata\\local\\pip\\cache\\wheels\\04\\5f\\3e\\46cc37c5d698415694d83f607f833f83f0149e49b3af9d0f38\n",
            "Successfully built wget\n",
            "Installing collected packages: pyparsing, idna, certifi, cycler, wget, requests-toolbelt, python-dotenv, roboflow\n",
            "  Attempting uninstall: pyparsing\n",
            "    Found existing installation: pyparsing 3.0.9\n",
            "    Uninstalling pyparsing-3.0.9:\n",
            "      Successfully uninstalled pyparsing-3.0.9\n",
            "  Attempting uninstall: idna\n",
            "    Found existing installation: idna 3.4\n",
            "    Uninstalling idna-3.4:\n",
            "      Successfully uninstalled idna-3.4\n",
            "  Attempting uninstall: certifi\n",
            "    Found existing installation: certifi 2022.9.24\n",
            "    Uninstalling certifi-2022.9.24:\n",
            "      Successfully uninstalled certifi-2022.9.24\n",
            "  Attempting uninstall: cycler\n",
            "    Found existing installation: cycler 0.11.0\n",
            "    Uninstalling cycler-0.11.0:\n",
            "      Successfully uninstalled cycler-0.11.0\n",
            "Successfully installed certifi-2022.12.7 cycler-0.10.0 idna-2.10 pyparsing-2.4.7 python-dotenv-0.21.1 requests-toolbelt-0.10.1 roboflow-0.2.31 wget-3.2\n"
          ]
        }
      ],
      "source": [
        "!pip install roboflow"
      ]
    },
    {
      "cell_type": "markdown",
      "source": [
        "## Fetching dataset from Roboflow API\n",
        "\n",
        "---\n",
        "\n"
      ],
      "metadata": {
        "id": "-fnyVSzCmr7T"
      }
    },
    {
      "cell_type": "markdown",
      "source": [
        "**Original Dataset**"
      ],
      "metadata": {
        "id": "rJcVEBJbmxXS"
      }
    },
    {
      "cell_type": "code",
      "execution_count": null,
      "metadata": {
        "id": "8n4KW3RFRNSf"
      },
      "outputs": [],
      "source": [
        "from roboflow import Roboflow\n",
        "rf = Roboflow(api_key=\"<Enter_Your_API_Key_Here>\")\n",
        "project = rf.workspace(\"object-detect-dmjpt\").project(\"ocean_waste\")\n",
        "dataset = project.version(1).download(\"yolov8\")"
      ]
    },
    {
      "cell_type": "markdown",
      "source": [
        "**Denoised Dataset**"
      ],
      "metadata": {
        "id": "3BZM7CVZm4JO"
      }
    },
    {
      "cell_type": "code",
      "source": [
        "from roboflow import Roboflow\n",
        "rf = Roboflow(api_key=\"<Enter_Your_API_Key_Here>\")\n",
        "project = rf.workspace(\"neural-ocean\").project(\"underwater-65x5j\")\n",
        "dataset = project.version(3).download(\"yolov8\")"
      ],
      "metadata": {
        "id": "lQmN63V9m273"
      },
      "execution_count": null,
      "outputs": []
    },
    {
      "cell_type": "markdown",
      "source": [
        "## Training\n",
        "\n",
        "---\n",
        "\n"
      ],
      "metadata": {
        "id": "u24WvJccnBeT"
      }
    },
    {
      "cell_type": "code",
      "execution_count": null,
      "metadata": {
        "id": "2nv9tJ2TSknl"
      },
      "outputs": [],
      "source": [
        "!yolo task=detect \\\n",
        "mode=train \\\n",
        "model=yolov8s.pt \\\n",
        "data={dataset.location}/data.yaml \\\n",
        "epochs=25 \\ # Try different number of epochs and find where the loss curve is converging for best output\n",
        "imgsz=640"
      ]
    },
    {
      "cell_type": "code",
      "execution_count": null,
      "metadata": {
        "id": "UGMLei9ohRYf"
      },
      "outputs": [],
      "source": [
        "!yolo task=detect \\\n",
        "mode=predict \\\n",
        "model=/content/runs/detect/train2/weights/best.pt \\\n",
        "conf=0.25 \\\n",
        "source={dataset.location}/test/images"
      ]
    },
    {
      "cell_type": "code",
      "execution_count": null,
      "metadata": {
        "colab": {
          "base_uri": "https://localhost:8080/"
        },
        "id": "kFyMWGnNhnwV",
        "outputId": "743c86d2-6a5f-4f1a-d472-cd3ed0cb4bdf"
      },
      "outputs": [
        {
          "name": "stdout",
          "output_type": "stream",
          "text": [
            "Ultralytics YOLOv8.0.40 🚀 Python-3.8.10 torch-1.13.1+cu116 CUDA:0 (Tesla T4, 15110MiB)\n",
            "Model summary (fused): 168 layers, 11131389 parameters, 0 gradients, 28.5 GFLOPs\n",
            "\n",
            "image 1/1 /content/demo.jpg: 384x640 2 pbottles, 18.0ms\n",
            "Speed: 0.6ms pre-process, 18.0ms inference, 2.1ms postprocess per image at shape (1, 3, 640, 640)\n"
          ]
        }
      ],
      "source": [
        "!yolo predict model=/content/runs/detect/train2/weights/best.pt source='/content/demo.jpg'"
      ]
    },
    {
      "cell_type": "code",
      "source": [
        "from google.colab.patches import cv2_imshow"
      ],
      "metadata": {
        "id": "Tsx2F9YnolC8"
      },
      "execution_count": null,
      "outputs": []
    },
    {
      "cell_type": "code",
      "execution_count": null,
      "metadata": {
        "id": "Vza_bGhYjlh0"
      },
      "outputs": [],
      "source": [
        "# Load the model to inference on test images\n",
        "from ultralytics import YOLO\n",
        "model = YOLO('./models/YoloV8_Underwater_Dataset/100_epochs_best.pt')  \n",
        "results = model('C:\\\\Users\\Acer\\Downloads\\\\test1.jpg')  # predict on an image\n",
        "res_plotted = results[0].plot()\n",
        "cv2_imshow(\"results\", res_plotted)"
      ]
    }
  ],
  "metadata": {
    "accelerator": "GPU",
    "colab": {
      "provenance": [],
      "include_colab_link": true
    },
    "gpuClass": "standard",
    "kernelspec": {
      "display_name": "Python 3 (ipykernel)",
      "language": "python",
      "name": "python3"
    },
    "language_info": {
      "codemirror_mode": {
        "name": "ipython",
        "version": 3
      },
      "file_extension": ".py",
      "mimetype": "text/x-python",
      "name": "python",
      "nbconvert_exporter": "python",
      "pygments_lexer": "ipython3",
      "version": "3.9.12"
    }
  },
  "nbformat": 4,
  "nbformat_minor": 0
}